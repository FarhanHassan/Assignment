{
  "nbformat": 4,
  "nbformat_minor": 0,
  "metadata": {
    "colab": {
      "provenance": [],
      "mount_file_id": "17BQ1NIkNEwJF8Urwf7qjAgv8AFB91eeN",
      "authorship_tag": "ABX9TyPNxQTvpq9Vdo2I+vwjFbXC",
      "include_colab_link": true
    },
    "kernelspec": {
      "name": "python3",
      "display_name": "Python 3"
    },
    "language_info": {
      "name": "python"
    }
  },
  "cells": [
    {
      "cell_type": "markdown",
      "metadata": {
        "id": "view-in-github",
        "colab_type": "text"
      },
      "source": [
        "<a href=\"https://colab.research.google.com/github/FarhanHassan/Assignment/blob/main/Assignment.ipynb\" target=\"_parent\"><img src=\"https://colab.research.google.com/assets/colab-badge.svg\" alt=\"Open In Colab\"/></a>"
      ]
    },
    {
      "cell_type": "code",
      "execution_count": null,
      "metadata": {
        "id": "x9-xUPoex4JL"
      },
      "outputs": [],
      "source": []
    },
    {
      "cell_type": "code",
      "source": [
        "import csv\n",
        "open_file = open('/content/drive/MyDrive/DataAnalyst/student data.csv',mode='r')\n",
        "open_file"
      ],
      "metadata": {
        "colab": {
          "base_uri": "https://localhost:8080/"
        },
        "id": "51XuXFSqylwG",
        "outputId": "8dd52d1d-9f09-4a0b-c5d9-39cf93815cc5"
      },
      "execution_count": null,
      "outputs": [
        {
          "output_type": "execute_result",
          "data": {
            "text/plain": [
              "<_io.TextIOWrapper name='/content/drive/MyDrive/DataAnalyst/student data.csv' mode='r' encoding='UTF-8'>"
            ]
          },
          "metadata": {},
          "execution_count": 1
        }
      ]
    },
    {
      "cell_type": "code",
      "source": [
        "read = csv.reader(open_file)\n",
        "data = list(read)\n",
        "data"
      ],
      "metadata": {
        "colab": {
          "base_uri": "https://localhost:8080/"
        },
        "id": "XVmgVH4a0YKX",
        "outputId": "8e238e94-81d5-4529-941d-4a5e364451e0"
      },
      "execution_count": null,
      "outputs": [
        {
          "output_type": "execute_result",
          "data": {
            "text/plain": [
              "[['roll no', 'Name', 'Chemistry', 'Physics', 'Math'],\n",
              " ['101', 'Aliza', '50', '23', '87'],\n",
              " ['102', 'Fareed', '45', '24', '88'],\n",
              " ['103', 'Basit', '46', '25', '89'],\n",
              " ['104', 'Abdullah', '47', '26', '90'],\n",
              " ['105', 'Ali', '48', '27', '67'],\n",
              " ['106', 'Mubashir', '49', '28', '68'],\n",
              " ['107', 'Waleed', '50', '29', '69'],\n",
              " ['108', 'Mansoor', '51', '30', '70'],\n",
              " ['109', 'Zain', '52', '31', '71'],\n",
              " ['110', 'Mohsin', '53', '67', '72'],\n",
              " ['111', 'Shahmeer', '54', '68', '73'],\n",
              " ['112', 'Rao', '55', '69', '74'],\n",
              " ['113', 'Aurangzeb', '56', '70', '75'],\n",
              " ['114', 'Zeeshan', '57', '71', '76'],\n",
              " ['115', 'Hamna', '58', '72', '77'],\n",
              " ['116', 'Hamza', '59', '73', '78'],\n",
              " ['117', 'Khalid', '60', '74', '79'],\n",
              " ['118', 'Behroz', '61', '75', '80'],\n",
              " ['119', 'Justin', '62', '76', '81'],\n",
              " ['120', 'Danish', '63', '77', '82'],\n",
              " ['121', 'Kainat', '64', '78', '83'],\n",
              " ['122', 'Sameer', '65', '79', '84'],\n",
              " ['123', 'Raza', '66', '80', '85'],\n",
              " ['124', 'Kumar', '67', '81', '86'],\n",
              " ['125', 'Komal', '68', '82', '87'],\n",
              " ['126', 'Erum', '69', '83', '88'],\n",
              " ['127', 'Faiza', '70', '84', '89'],\n",
              " ['128', 'Saeed', '71', '85', '90'],\n",
              " ['129', 'Waqar', '72', '86', '91'],\n",
              " ['130', 'Wali', '73', '87', '92'],\n",
              " ['131', 'Wajid', '74', '88', '93'],\n",
              " ['132', 'Waseeb', '75', '89', '94'],\n",
              " ['133', 'Shiza', '76', '90', '95'],\n",
              " ['134', 'Shabina', '77', '91', '96'],\n",
              " ['135', 'Shazain', '78', '55', '97'],\n",
              " ['136', 'Lubna', '79', '61', '98'],\n",
              " ['137', 'Laiba', '80', '88', '78'],\n",
              " ['138', 'Khursheed', '81', '56', '45'],\n",
              " ['139', 'Ali', '82', '89', '46'],\n",
              " ['140', 'Aiza', '83', '45', '89'],\n",
              " ['141', 'Aiman', '84', '92', '78'],\n",
              " ['142', 'Yasmeen', '85', '36', '56'],\n",
              " ['143', 'Tasbeel', '86', '78', '78'],\n",
              " ['144', 'Laraib', '87', '56', '54'],\n",
              " ['145', 'Saleem', '88', '78', '78'],\n",
              " ['146', 'Bismil', '89', '89', '46'],\n",
              " ['147', 'Batool', '90', '56', '79'],\n",
              " ['148', 'Iqra', '91', '33', '46'],\n",
              " ['149', 'Zarnish', '92', '78', '45'],\n",
              " ['150', 'Zara', '83', '45', '56']]"
            ]
          },
          "metadata": {},
          "execution_count": 2
        }
      ]
    },
    {
      "cell_type": "code",
      "source": [
        "header=data[0]"
      ],
      "metadata": {
        "id": "_KhGZ5u70euJ"
      },
      "execution_count": null,
      "outputs": []
    },
    {
      "cell_type": "code",
      "source": [
        "header"
      ],
      "metadata": {
        "colab": {
          "base_uri": "https://localhost:8080/"
        },
        "id": "E8416F7H1QU4",
        "outputId": "4436e220-a3b0-4b70-ef93-1d2d54e59b02"
      },
      "execution_count": null,
      "outputs": [
        {
          "output_type": "execute_result",
          "data": {
            "text/plain": [
              "['roll no', 'Name', 'Chemistry', 'Physics', 'Math']"
            ]
          },
          "metadata": {},
          "execution_count": 4
        }
      ]
    },
    {
      "cell_type": "code",
      "source": [
        "student_data=data[1:]"
      ],
      "metadata": {
        "id": "lu3UPglN1SV-"
      },
      "execution_count": null,
      "outputs": []
    },
    {
      "cell_type": "code",
      "source": [
        "student_data"
      ],
      "metadata": {
        "colab": {
          "base_uri": "https://localhost:8080/"
        },
        "id": "Wsuskhah1Y3t",
        "outputId": "4a97b5c8-eec8-4c4c-8104-b1a7d14fa7a3"
      },
      "execution_count": null,
      "outputs": [
        {
          "output_type": "execute_result",
          "data": {
            "text/plain": [
              "[['101', 'Aliza', '50', '23', '87'],\n",
              " ['102', 'Fareed', '45', '24', '88'],\n",
              " ['103', 'Basit', '46', '25', '89'],\n",
              " ['104', 'Abdullah', '47', '26', '90'],\n",
              " ['105', 'Ali', '48', '27', '67'],\n",
              " ['106', 'Mubashir', '49', '28', '68'],\n",
              " ['107', 'Waleed', '50', '29', '69'],\n",
              " ['108', 'Mansoor', '51', '30', '70'],\n",
              " ['109', 'Zain', '52', '31', '71'],\n",
              " ['110', 'Mohsin', '53', '67', '72'],\n",
              " ['111', 'Shahmeer', '54', '68', '73'],\n",
              " ['112', 'Rao', '55', '69', '74'],\n",
              " ['113', 'Aurangzeb', '56', '70', '75'],\n",
              " ['114', 'Zeeshan', '57', '71', '76'],\n",
              " ['115', 'Hamna', '58', '72', '77'],\n",
              " ['116', 'Hamza', '59', '73', '78'],\n",
              " ['117', 'Khalid', '60', '74', '79'],\n",
              " ['118', 'Behroz', '61', '75', '80'],\n",
              " ['119', 'Justin', '62', '76', '81'],\n",
              " ['120', 'Danish', '63', '77', '82'],\n",
              " ['121', 'Kainat', '64', '78', '83'],\n",
              " ['122', 'Sameer', '65', '79', '84'],\n",
              " ['123', 'Raza', '66', '80', '85'],\n",
              " ['124', 'Kumar', '67', '81', '86'],\n",
              " ['125', 'Komal', '68', '82', '87'],\n",
              " ['126', 'Erum', '69', '83', '88'],\n",
              " ['127', 'Faiza', '70', '84', '89'],\n",
              " ['128', 'Saeed', '71', '85', '90'],\n",
              " ['129', 'Waqar', '72', '86', '91'],\n",
              " ['130', 'Wali', '73', '87', '92'],\n",
              " ['131', 'Wajid', '74', '88', '93'],\n",
              " ['132', 'Waseeb', '75', '89', '94'],\n",
              " ['133', 'Shiza', '76', '90', '95'],\n",
              " ['134', 'Shabina', '77', '91', '96'],\n",
              " ['135', 'Shazain', '78', '55', '97'],\n",
              " ['136', 'Lubna', '79', '61', '98'],\n",
              " ['137', 'Laiba', '80', '88', '78'],\n",
              " ['138', 'Khursheed', '81', '56', '45'],\n",
              " ['139', 'Ali', '82', '89', '46'],\n",
              " ['140', 'Aiza', '83', '45', '89'],\n",
              " ['141', 'Aiman', '84', '92', '78'],\n",
              " ['142', 'Yasmeen', '85', '36', '56'],\n",
              " ['143', 'Tasbeel', '86', '78', '78'],\n",
              " ['144', 'Laraib', '87', '56', '54'],\n",
              " ['145', 'Saleem', '88', '78', '78'],\n",
              " ['146', 'Bismil', '89', '89', '46'],\n",
              " ['147', 'Batool', '90', '56', '79'],\n",
              " ['148', 'Iqra', '91', '33', '46'],\n",
              " ['149', 'Zarnish', '92', '78', '45'],\n",
              " ['150', 'Zara', '83', '45', '56']]"
            ]
          },
          "metadata": {},
          "execution_count": 8
        }
      ]
    },
    {
      "cell_type": "code",
      "source": [
        "chem_marks=[]\n",
        "for i in student_data:\n",
        "  chem_marks.append(float(i[2]))\n"
      ],
      "metadata": {
        "id": "8Jq6SMUt1a5p"
      },
      "execution_count": null,
      "outputs": []
    },
    {
      "cell_type": "code",
      "source": [
        "avg_chem=sum(chem_marks)/len(chem_marks)"
      ],
      "metadata": {
        "id": "RcS9gpbd19jk"
      },
      "execution_count": null,
      "outputs": []
    },
    {
      "cell_type": "code",
      "source": [
        "avg_chem"
      ],
      "metadata": {
        "colab": {
          "base_uri": "https://localhost:8080/"
        },
        "id": "sSWxQyx-2NLV",
        "outputId": "a93396f5-7561-4bf8-acdb-a82746ccc733"
      },
      "execution_count": null,
      "outputs": [
        {
          "output_type": "execute_result",
          "data": {
            "text/plain": [
              "68.42"
            ]
          },
          "metadata": {},
          "execution_count": 17
        }
      ]
    },
    {
      "cell_type": "code",
      "source": [
        "phy_marks=[]\n",
        "for i in student_data:\n",
        "  phy_marks.append(float(i[3]))\n",
        "avg_phy=sum(phy_marks)/len(phy_marks)\n",
        "avg_phy"
      ],
      "metadata": {
        "colab": {
          "base_uri": "https://localhost:8080/"
        },
        "id": "1l_wHPEA3EGg",
        "outputId": "438bff5e-da9c-4ff9-d4f4-609f399740a3"
      },
      "execution_count": null,
      "outputs": [
        {
          "output_type": "execute_result",
          "data": {
            "text/plain": [
              "65.06"
            ]
          },
          "metadata": {},
          "execution_count": 18
        }
      ]
    },
    {
      "cell_type": "code",
      "source": [
        "mth_marks=[]\n",
        "for i in student_data:\n",
        "  mth_marks.append(float(i[4]))\n",
        "avg_mth=sum(mth_marks)/len(mth_marks)\n",
        "avg_mth"
      ],
      "metadata": {
        "colab": {
          "base_uri": "https://localhost:8080/"
        },
        "id": "qi1m9KVf6BOJ",
        "outputId": "3fd128fd-d8f3-4c6a-e6b9-6e5926d211d0"
      },
      "execution_count": null,
      "outputs": [
        {
          "output_type": "execute_result",
          "data": {
            "text/plain": [
              "77.36"
            ]
          },
          "metadata": {},
          "execution_count": 19
        }
      ]
    },
    {
      "cell_type": "code",
      "source": [
        "student_data"
      ],
      "metadata": {
        "colab": {
          "base_uri": "https://localhost:8080/"
        },
        "id": "vXIx0JzX6MqO",
        "outputId": "5afe3f26-2998-45eb-f1f7-f29b02fd7117"
      },
      "execution_count": null,
      "outputs": [
        {
          "output_type": "execute_result",
          "data": {
            "text/plain": [
              "[['101', 'Aliza', '50', '23', '87'],\n",
              " ['102', 'Fareed', '45', '24', '88'],\n",
              " ['103', 'Basit', '46', '25', '89'],\n",
              " ['104', 'Abdullah', '47', '26', '90'],\n",
              " ['105', 'Ali', '48', '27', '67'],\n",
              " ['106', 'Mubashir', '49', '28', '68'],\n",
              " ['107', 'Waleed', '50', '29', '69'],\n",
              " ['108', 'Mansoor', '51', '30', '70'],\n",
              " ['109', 'Zain', '52', '31', '71'],\n",
              " ['110', 'Mohsin', '53', '67', '72'],\n",
              " ['111', 'Shahmeer', '54', '68', '73'],\n",
              " ['112', 'Rao', '55', '69', '74'],\n",
              " ['113', 'Aurangzeb', '56', '70', '75'],\n",
              " ['114', 'Zeeshan', '57', '71', '76'],\n",
              " ['115', 'Hamna', '58', '72', '77'],\n",
              " ['116', 'Hamza', '59', '73', '78'],\n",
              " ['117', 'Khalid', '60', '74', '79'],\n",
              " ['118', 'Behroz', '61', '75', '80'],\n",
              " ['119', 'Justin', '62', '76', '81'],\n",
              " ['120', 'Danish', '63', '77', '82'],\n",
              " ['121', 'Kainat', '64', '78', '83'],\n",
              " ['122', 'Sameer', '65', '79', '84'],\n",
              " ['123', 'Raza', '66', '80', '85'],\n",
              " ['124', 'Kumar', '67', '81', '86'],\n",
              " ['125', 'Komal', '68', '82', '87'],\n",
              " ['126', 'Erum', '69', '83', '88'],\n",
              " ['127', 'Faiza', '70', '84', '89'],\n",
              " ['128', 'Saeed', '71', '85', '90'],\n",
              " ['129', 'Waqar', '72', '86', '91'],\n",
              " ['130', 'Wali', '73', '87', '92'],\n",
              " ['131', 'Wajid', '74', '88', '93'],\n",
              " ['132', 'Waseeb', '75', '89', '94'],\n",
              " ['133', 'Shiza', '76', '90', '95'],\n",
              " ['134', 'Shabina', '77', '91', '96'],\n",
              " ['135', 'Shazain', '78', '55', '97'],\n",
              " ['136', 'Lubna', '79', '61', '98'],\n",
              " ['137', 'Laiba', '80', '88', '78'],\n",
              " ['138', 'Khursheed', '81', '56', '45'],\n",
              " ['139', 'Ali', '82', '89', '46'],\n",
              " ['140', 'Aiza', '83', '45', '89'],\n",
              " ['141', 'Aiman', '84', '92', '78'],\n",
              " ['142', 'Yasmeen', '85', '36', '56'],\n",
              " ['143', 'Tasbeel', '86', '78', '78'],\n",
              " ['144', 'Laraib', '87', '56', '54'],\n",
              " ['145', 'Saleem', '88', '78', '78'],\n",
              " ['146', 'Bismil', '89', '89', '46'],\n",
              " ['147', 'Batool', '90', '56', '79'],\n",
              " ['148', 'Iqra', '91', '33', '46'],\n",
              " ['149', 'Zarnish', '92', '78', '45'],\n",
              " ['150', 'Zara', '83', '45', '56']]"
            ]
          },
          "metadata": {},
          "execution_count": 20
        }
      ]
    },
    {
      "cell_type": "code",
      "source": [
        "for per in student_data:\n",
        "  chem=per[2]\n",
        "  phy=per[3]\n",
        "  math=per[4]\n",
        "  percentage=round((float(chem)+int(phy)+float(math))*100)/300\n",
        "  per.append(round(percentage,2))\n",
        "\n"
      ],
      "metadata": {
        "id": "PoimooNu6qtx"
      },
      "execution_count": null,
      "outputs": []
    },
    {
      "cell_type": "code",
      "source": [
        "student_data"
      ],
      "metadata": {
        "colab": {
          "base_uri": "https://localhost:8080/"
        },
        "id": "AGWMQX7x63ON",
        "outputId": "02dcad8f-1caa-4468-9d1a-be4925a1c06d"
      },
      "execution_count": null,
      "outputs": [
        {
          "output_type": "execute_result",
          "data": {
            "text/plain": [
              "[['101', 'Aliza', '50', '23', '87', 53.33],\n",
              " ['102', 'Fareed', '45', '24', '88', 52.33],\n",
              " ['103', 'Basit', '46', '25', '89', 53.33],\n",
              " ['104', 'Abdullah', '47', '26', '90', 54.33],\n",
              " ['105', 'Ali', '48', '27', '67', 47.33],\n",
              " ['106', 'Mubashir', '49', '28', '68', 48.33],\n",
              " ['107', 'Waleed', '50', '29', '69', 49.33],\n",
              " ['108', 'Mansoor', '51', '30', '70', 50.33],\n",
              " ['109', 'Zain', '52', '31', '71', 51.33],\n",
              " ['110', 'Mohsin', '53', '67', '72', 64.0],\n",
              " ['111', 'Shahmeer', '54', '68', '73', 65.0],\n",
              " ['112', 'Rao', '55', '69', '74', 66.0],\n",
              " ['113', 'Aurangzeb', '56', '70', '75', 67.0],\n",
              " ['114', 'Zeeshan', '57', '71', '76', 68.0],\n",
              " ['115', 'Hamna', '58', '72', '77', 69.0],\n",
              " ['116', 'Hamza', '59', '73', '78', 70.0],\n",
              " ['117', 'Khalid', '60', '74', '79', 71.0],\n",
              " ['118', 'Behroz', '61', '75', '80', 72.0],\n",
              " ['119', 'Justin', '62', '76', '81', 73.0],\n",
              " ['120', 'Danish', '63', '77', '82', 74.0],\n",
              " ['121', 'Kainat', '64', '78', '83', 75.0],\n",
              " ['122', 'Sameer', '65', '79', '84', 76.0],\n",
              " ['123', 'Raza', '66', '80', '85', 77.0],\n",
              " ['124', 'Kumar', '67', '81', '86', 78.0],\n",
              " ['125', 'Komal', '68', '82', '87', 79.0],\n",
              " ['126', 'Erum', '69', '83', '88', 80.0],\n",
              " ['127', 'Faiza', '70', '84', '89', 81.0],\n",
              " ['128', 'Saeed', '71', '85', '90', 82.0],\n",
              " ['129', 'Waqar', '72', '86', '91', 83.0],\n",
              " ['130', 'Wali', '73', '87', '92', 84.0],\n",
              " ['131', 'Wajid', '74', '88', '93', 85.0],\n",
              " ['132', 'Waseeb', '75', '89', '94', 86.0],\n",
              " ['133', 'Shiza', '76', '90', '95', 87.0],\n",
              " ['134', 'Shabina', '77', '91', '96', 88.0],\n",
              " ['135', 'Shazain', '78', '55', '97', 76.67],\n",
              " ['136', 'Lubna', '79', '61', '98', 79.33],\n",
              " ['137', 'Laiba', '80', '88', '78', 82.0],\n",
              " ['138', 'Khursheed', '81', '56', '45', 60.67],\n",
              " ['139', 'Ali', '82', '89', '46', 72.33],\n",
              " ['140', 'Aiza', '83', '45', '89', 72.33],\n",
              " ['141', 'Aiman', '84', '92', '78', 84.67],\n",
              " ['142', 'Yasmeen', '85', '36', '56', 59.0],\n",
              " ['143', 'Tasbeel', '86', '78', '78', 80.67],\n",
              " ['144', 'Laraib', '87', '56', '54', 65.67],\n",
              " ['145', 'Saleem', '88', '78', '78', 81.33],\n",
              " ['146', 'Bismil', '89', '89', '46', 74.67],\n",
              " ['147', 'Batool', '90', '56', '79', 75.0],\n",
              " ['148', 'Iqra', '91', '33', '46', 56.67],\n",
              " ['149', 'Zarnish', '92', '78', '45', 71.67],\n",
              " ['150', 'Zara', '83', '45', '56', 61.33]]"
            ]
          },
          "metadata": {},
          "execution_count": 30
        }
      ]
    },
    {
      "cell_type": "code",
      "source": [
        "header.append(\"parcentage\")"
      ],
      "metadata": {
        "id": "UoySI0u78l4z"
      },
      "execution_count": null,
      "outputs": []
    },
    {
      "cell_type": "code",
      "source": [
        "data"
      ],
      "metadata": {
        "colab": {
          "base_uri": "https://localhost:8080/"
        },
        "id": "oY31Ruoq8vUF",
        "outputId": "157f4d3c-6780-4473-ab0e-bac04d8f0b2a"
      },
      "execution_count": null,
      "outputs": [
        {
          "output_type": "execute_result",
          "data": {
            "text/plain": [
              "[['roll no', 'Name', 'Chemistry', 'Physics', 'Math', 'parcentage'],\n",
              " ['101', 'Aliza', '50', '23', '87', 53.33],\n",
              " ['102', 'Fareed', '45', '24', '88', 52.33],\n",
              " ['103', 'Basit', '46', '25', '89', 53.33],\n",
              " ['104', 'Abdullah', '47', '26', '90', 54.33],\n",
              " ['105', 'Ali', '48', '27', '67', 47.33],\n",
              " ['106', 'Mubashir', '49', '28', '68', 48.33],\n",
              " ['107', 'Waleed', '50', '29', '69', 49.33],\n",
              " ['108', 'Mansoor', '51', '30', '70', 50.33],\n",
              " ['109', 'Zain', '52', '31', '71', 51.33],\n",
              " ['110', 'Mohsin', '53', '67', '72', 64.0],\n",
              " ['111', 'Shahmeer', '54', '68', '73', 65.0],\n",
              " ['112', 'Rao', '55', '69', '74', 66.0],\n",
              " ['113', 'Aurangzeb', '56', '70', '75', 67.0],\n",
              " ['114', 'Zeeshan', '57', '71', '76', 68.0],\n",
              " ['115', 'Hamna', '58', '72', '77', 69.0],\n",
              " ['116', 'Hamza', '59', '73', '78', 70.0],\n",
              " ['117', 'Khalid', '60', '74', '79', 71.0],\n",
              " ['118', 'Behroz', '61', '75', '80', 72.0],\n",
              " ['119', 'Justin', '62', '76', '81', 73.0],\n",
              " ['120', 'Danish', '63', '77', '82', 74.0],\n",
              " ['121', 'Kainat', '64', '78', '83', 75.0],\n",
              " ['122', 'Sameer', '65', '79', '84', 76.0],\n",
              " ['123', 'Raza', '66', '80', '85', 77.0],\n",
              " ['124', 'Kumar', '67', '81', '86', 78.0],\n",
              " ['125', 'Komal', '68', '82', '87', 79.0],\n",
              " ['126', 'Erum', '69', '83', '88', 80.0],\n",
              " ['127', 'Faiza', '70', '84', '89', 81.0],\n",
              " ['128', 'Saeed', '71', '85', '90', 82.0],\n",
              " ['129', 'Waqar', '72', '86', '91', 83.0],\n",
              " ['130', 'Wali', '73', '87', '92', 84.0],\n",
              " ['131', 'Wajid', '74', '88', '93', 85.0],\n",
              " ['132', 'Waseeb', '75', '89', '94', 86.0],\n",
              " ['133', 'Shiza', '76', '90', '95', 87.0],\n",
              " ['134', 'Shabina', '77', '91', '96', 88.0],\n",
              " ['135', 'Shazain', '78', '55', '97', 76.67],\n",
              " ['136', 'Lubna', '79', '61', '98', 79.33],\n",
              " ['137', 'Laiba', '80', '88', '78', 82.0],\n",
              " ['138', 'Khursheed', '81', '56', '45', 60.67],\n",
              " ['139', 'Ali', '82', '89', '46', 72.33],\n",
              " ['140', 'Aiza', '83', '45', '89', 72.33],\n",
              " ['141', 'Aiman', '84', '92', '78', 84.67],\n",
              " ['142', 'Yasmeen', '85', '36', '56', 59.0],\n",
              " ['143', 'Tasbeel', '86', '78', '78', 80.67],\n",
              " ['144', 'Laraib', '87', '56', '54', 65.67],\n",
              " ['145', 'Saleem', '88', '78', '78', 81.33],\n",
              " ['146', 'Bismil', '89', '89', '46', 74.67],\n",
              " ['147', 'Batool', '90', '56', '79', 75.0],\n",
              " ['148', 'Iqra', '91', '33', '46', 56.67],\n",
              " ['149', 'Zarnish', '92', '78', '45', 71.67],\n",
              " ['150', 'Zara', '83', '45', '56', 61.33]]"
            ]
          },
          "metadata": {},
          "execution_count": 34
        }
      ]
    },
    {
      "cell_type": "code",
      "source": [
        "open_file = open(\"/content/drive/MyDrive/DataAnalyst/student data1.csv\",mode='w',newline='')\n",
        "open_file"
      ],
      "metadata": {
        "colab": {
          "base_uri": "https://localhost:8080/"
        },
        "id": "jNSCFjvX8-Xs",
        "outputId": "950b5efa-f485-4b73-a83c-5b3d64a975fd"
      },
      "execution_count": null,
      "outputs": [
        {
          "output_type": "execute_result",
          "data": {
            "text/plain": [
              "<_io.TextIOWrapper name='/content/drive/MyDrive/DataAnalyst/student data1.csv' mode='w' encoding='UTF-8'>"
            ]
          },
          "metadata": {},
          "execution_count": 35
        }
      ]
    },
    {
      "cell_type": "code",
      "source": [
        "writer = csv.writer(open_file)\n",
        "writer"
      ],
      "metadata": {
        "colab": {
          "base_uri": "https://localhost:8080/"
        },
        "id": "lsuuN9Lk_Ttf",
        "outputId": "e3b749f0-e801-4ab4-f130-b9f87a835fd8"
      },
      "execution_count": null,
      "outputs": [
        {
          "output_type": "execute_result",
          "data": {
            "text/plain": [
              "<_csv.writer at 0x7bc8813f1660>"
            ]
          },
          "metadata": {},
          "execution_count": 36
        }
      ]
    },
    {
      "cell_type": "code",
      "source": [
        "writer.writerows(data)"
      ],
      "metadata": {
        "id": "OitfNNMf_WoJ"
      },
      "execution_count": null,
      "outputs": []
    },
    {
      "cell_type": "code",
      "source": [
        "open_file.close()"
      ],
      "metadata": {
        "id": "85bWYKhm_YuK"
      },
      "execution_count": null,
      "outputs": []
    },
    {
      "cell_type": "code",
      "source": [],
      "metadata": {
        "id": "3LEj-CxI_akg"
      },
      "execution_count": null,
      "outputs": []
    }
  ]
}