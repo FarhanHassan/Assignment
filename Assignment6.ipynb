{
 "cells": [
  {
   "cell_type": "markdown",
   "id": "4d2b7688-a887-4bde-958d-6f69e4c91ccb",
   "metadata": {},
   "source": [
    "# 1"
   ]
  },
  {
   "cell_type": "code",
   "execution_count": 22,
   "id": "b6ef5e65-ea1d-41b4-b53f-09d7e18ed016",
   "metadata": {},
   "outputs": [
    {
     "name": "stdout",
     "output_type": "stream",
     "text": [
      "\n",
      "* \n",
      "* * \n",
      "* * * \n",
      "* * * * \n",
      "* * * * * \n",
      "* * * * \n",
      "* * * \n",
      "* * \n",
      "* \n"
     ]
    }
   ],
   "source": [
    "# Write a Python program to construct the following pattern, using a nested for loop.\n",
    "n=5\n",
    "for x in range(n):\n",
    "    for y in range(x):\n",
    "        print('* ', end=\"\")\n",
    "    print(\"\")\n",
    "for x in range(n, 0, -1):\n",
    "    for y in range(x):\n",
    "        print('* ', end=\"\")\n",
    "    print(\"\")"
   ]
  },
  {
   "cell_type": "markdown",
   "id": "52b7c768-4e65-44da-8941-356ae4b24b5c",
   "metadata": {},
   "source": [
    "# 2"
   ]
  },
  {
   "cell_type": "code",
   "execution_count": 24,
   "id": "5fbfe05a-51f8-4235-aff7-435678ff3b2a",
   "metadata": {},
   "outputs": [
    {
     "name": "stdin",
     "output_type": "stream",
     "text": [
      "Enter a character:  e\n"
     ]
    },
    {
     "name": "stdout",
     "output_type": "stream",
     "text": [
      "e is a vowel\n"
     ]
    }
   ],
   "source": [
    "#. Write a Python program to check whether an alphabet which is given by user in input prompt is a vowel or consonant.\n",
    "\n",
    "alpha = input(\"Enter a character: \")\n",
    "if(alpha=='a' or alpha=='e' or alpha=='i' or alpha=='o' or alpha=='u'):\n",
    "    print(f\"{alpha} is a vowel\")\n",
    "else:\n",
    "    print(f\"{alpha} is a consonant\")"
   ]
  },
  {
   "cell_type": "markdown",
   "id": "a1149f76-f333-4e6f-9055-e356ef23451f",
   "metadata": {},
   "source": [
    "# 3"
   ]
  },
  {
   "cell_type": "code",
   "execution_count": 26,
   "id": "1890a3f8-550c-4d2a-976a-5403e6f57f19",
   "metadata": {},
   "outputs": [
    {
     "name": "stdin",
     "output_type": "stream",
     "text": [
      "Enter a number: 7\n"
     ]
    },
    {
     "name": "stdout",
     "output_type": "stream",
     "text": [
      "7x1=7\n",
      "7x2=14\n",
      "7x3=21\n",
      "7x4=28\n",
      "7x5=35\n",
      "7x6=42\n",
      "7x7=49\n",
      "7x8=56\n",
      "7x9=63\n",
      "7x10=70\n"
     ]
    }
   ],
   "source": [
    "#Write a Python program to create the multiplication table (from 1 to 10) of a number and the number will be given by user in input prompt.\n",
    "number = int(input(\"Enter a number:\"))\n",
    "for i in range(1,11):\n",
    "     print(f\"{number}x{i}={i*number}\")"
   ]
  },
  {
   "cell_type": "markdown",
   "id": "33a514ed-f57f-42eb-9097-fbb2ee4f27a5",
   "metadata": {},
   "source": [
    "# 4"
   ]
  },
  {
   "cell_type": "code",
   "execution_count": 28,
   "id": "e866ed5c-2c30-4bc5-8067-95c59dd2890b",
   "metadata": {},
   "outputs": [
    {
     "name": "stdin",
     "output_type": "stream",
     "text": [
      "Guess a number between 1 and 9:  4\n"
     ]
    },
    {
     "name": "stdout",
     "output_type": "stream",
     "text": [
      "Wrong guess. Try again!\n"
     ]
    },
    {
     "name": "stdin",
     "output_type": "stream",
     "text": [
      "Guess a number between 1 and 9:  1\n"
     ]
    },
    {
     "name": "stdout",
     "output_type": "stream",
     "text": [
      "Wrong guess. Try again!\n"
     ]
    },
    {
     "name": "stdin",
     "output_type": "stream",
     "text": [
      "Guess a number between 1 and 9:  6\n"
     ]
    },
    {
     "name": "stdout",
     "output_type": "stream",
     "text": [
      "Well guessed!\n"
     ]
    }
   ],
   "source": [
    "#Write a Python program to guess a number between 1 and 9.\n",
    "import random\n",
    "correct_number = random.randint(1, 9)\n",
    "while True:\n",
    "    guess = int(input(\"Guess a number between 1 and 9: \"))\n",
    "    if guess == correct_number:\n",
    "        print(\"Well guessed!\")\n",
    "        break\n",
    "    else:\n",
    "        print(\"Wrong guess. Try again!\")"
   ]
  },
  {
   "cell_type": "markdown",
   "id": "8e238f3f-a862-47c6-a5b6-7fa52d5220b6",
   "metadata": {},
   "source": [
    "# 5"
   ]
  },
  {
   "cell_type": "code",
   "execution_count": 30,
   "id": "cbd9d96e-7db0-443c-8ff2-9fe04a1a6508",
   "metadata": {},
   "outputs": [
    {
     "name": "stdout",
     "output_type": "stream",
     "text": [
      "\n",
      "Height > 6ft and Weight > 70kg:\n",
      "{'Cierra Vega': (6.2, 70)}\n"
     ]
    }
   ],
   "source": [
    "#Write a  Python program to filter the height and width of students, which are stored in a dictionary.Original Dictionary:\n",
    "students = {\n",
    "    'Cierra Vega': (6.2, 70),\n",
    "    'Alden Cantrell': (5.9, 65),\n",
    "    'Kierra Gentry': (6.0, 68),\n",
    "    'Pierre Cox': (5.8, 66)\n",
    "}\n",
    "filtered_students = {name: (height, weight) for name, (height, weight) in students.items() if height > 6 and weight >= 70}\n",
    "print(\"\\nHeight > 6ft and Weight > 70kg:\")\n",
    "print(filtered_students)"
   ]
  },
  {
   "cell_type": "markdown",
   "id": "825ad4b7-4a99-4b0d-89bc-ab0bdfc9d681",
   "metadata": {},
   "source": [
    "# 6"
   ]
  },
  {
   "cell_type": "code",
   "execution_count": 32,
   "id": "b1fa9ac2-ac3d-423a-bd26-b0b3d271b93f",
   "metadata": {},
   "outputs": [
    {
     "name": "stdout",
     "output_type": "stream",
     "text": [
      "{'C1': [10, 20, 30], 'C2': [20, 30, 40], 'C3': [12, 34]}\n",
      "Clear the list values in the said dictionary:\n",
      "{'C1': [], 'C2': [], 'C3': []}\n"
     ]
    }
   ],
   "source": [
    "#A Python dictionary contains List as a value. Write a Python program to clear the list values in the said dictionary.Clear the list values in the said dictionary:\n",
    "dictionary = {\n",
    "    'C1': [10, 20, 30],\n",
    "    'C2': [20, 30, 40],\n",
    "    'C3': [12, 34]\n",
    "}\n",
    "print(dictionary)\n",
    "for key in dictionary:\n",
    "    dictionary[key] = []\n",
    "print(\"Clear the list values in the said dictionary:\")\n",
    "print(dictionary)"
   ]
  },
  {
   "cell_type": "markdown",
   "id": "6b1c7226-7c4d-4ffa-b5ed-e657e66118d9",
   "metadata": {},
   "source": [
    "# 7"
   ]
  },
  {
   "cell_type": "code",
   "execution_count": 34,
   "id": "b700a0c4-a7f5-44d5-8165-44955db90625",
   "metadata": {},
   "outputs": [
    {
     "name": "stdout",
     "output_type": "stream",
     "text": [
      "Sentences about each river:\n",
      "The Nile runs through Egypt.\n",
      "The Amazon runs through Brazil.\n",
      "The Yangtze runs through China.\n",
      "Names of the rivers:\n",
      "Nile\n",
      "Amazon\n",
      "Yangtze\n",
      "Names of the countries:\n",
      "Egypt\n",
      "Brazil\n",
      "China\n"
     ]
    }
   ],
   "source": [
    "#Rivers: Make a dictionary containing three major rivers and the country each river runs through\n",
    "rivers = {\n",
    "    'Nile': 'Egypt',\n",
    "    'Amazon': 'Brazil',\n",
    "    'Yangtze': 'China'\n",
    "}\n",
    "#Use a loop to print a sentence about each river, such as The Nile runs through Egypt.\n",
    "print(\"Sentences about each river:\")\n",
    "for river, country in rivers.items():\n",
    "    print(f\"The {river} runs through {country}.\")\n",
    "#Use a loop to print the name of each river included in the dictionary.\n",
    "print(\"Names of the rivers:\")\n",
    "for river in rivers.keys():\n",
    "    print(river)\n",
    "#Use a loop to print the name of each country included in the dictionary.\n",
    "print(\"Names of the countries:\")\n",
    "for country in rivers.values():\n",
    "    print(country)"
   ]
  },
  {
   "cell_type": "markdown",
   "id": "4ce0b423-c65a-4aa8-9abd-d540cdb126e8",
   "metadata": {},
   "source": [
    "# 8"
   ]
  },
  {
   "cell_type": "code",
   "execution_count": 36,
   "id": "d62b30a8-d5f7-46b1-b628-2ebbaac54f65",
   "metadata": {},
   "outputs": [
    {
     "name": "stdin",
     "output_type": "stream",
     "text": [
      "Please enter your age (or type 'exit' to stop):  3\n"
     ]
    },
    {
     "name": "stdout",
     "output_type": "stream",
     "text": [
      "User age is 3, so the cost of the ticket is $10.\n"
     ]
    },
    {
     "name": "stdin",
     "output_type": "stream",
     "text": [
      "Please enter your age (or type 'exit' to stop):  44\n"
     ]
    },
    {
     "name": "stdout",
     "output_type": "stream",
     "text": [
      "User age is 44, so the cost of the ticket is $15.\n"
     ]
    },
    {
     "name": "stdin",
     "output_type": "stream",
     "text": [
      "Please enter your age (or type 'exit' to stop):  12\n"
     ]
    },
    {
     "name": "stdout",
     "output_type": "stream",
     "text": [
      "User age is 12, so the cost of the ticket is $10.\n"
     ]
    },
    {
     "name": "stdin",
     "output_type": "stream",
     "text": [
      "Please enter your age (or type 'exit' to stop):  2\n"
     ]
    },
    {
     "name": "stdout",
     "output_type": "stream",
     "text": [
      "User age is 2, so there is no cost. It's free!\n"
     ]
    },
    {
     "name": "stdin",
     "output_type": "stream",
     "text": [
      "Please enter your age (or type 'exit' to stop):  exit\n"
     ]
    },
    {
     "name": "stdout",
     "output_type": "stream",
     "text": [
      "Thank you for using the ticket pricing system. Goodbye!\n"
     ]
    }
   ],
   "source": [
    "#Movie Tickets: A movie theater charges different ticket prices depending on a person’s age. \n",
    "while True:\n",
    "    age_input = input(\"Please enter your age (or type 'exit' to stop): \")\n",
    "    if age_input.lower() == 'exit':\n",
    "        print(\"Thank you for using the ticket pricing system. Goodbye!\")\n",
    "        break\n",
    "    if not age_input.isdigit():\n",
    "        print(\"Invalid input. Please enter a valid number or type 'exit' to stop.\")\n",
    "        continue\n",
    "    age = int(age_input)\n",
    "    if age < 3:\n",
    "        print(f\"User age is {age}, so there is no cost. It's free!\")\n",
    "    elif 3 <= age <= 12:\n",
    "        print(f\"User age is {age}, so the cost of the ticket is $10.\")\n",
    "    else:\n",
    "        print(f\"User age is {age}, so the cost of the ticket is $15.\")"
   ]
  }
 ],
 "metadata": {
  "kernelspec": {
   "display_name": "Python 3 (ipykernel)",
   "language": "python",
   "name": "python3"
  },
  "language_info": {
   "codemirror_mode": {
    "name": "ipython",
    "version": 3
   },
   "file_extension": ".py",
   "mimetype": "text/x-python",
   "name": "python",
   "nbconvert_exporter": "python",
   "pygments_lexer": "ipython3",
   "version": "3.12.4"
  }
 },
 "nbformat": 4,
 "nbformat_minor": 5
}
