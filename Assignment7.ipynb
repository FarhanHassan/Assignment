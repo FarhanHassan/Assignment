{
  "nbformat": 4,
  "nbformat_minor": 0,
  "metadata": {
    "colab": {
      "provenance": [],
      "authorship_tag": "ABX9TyOAhl2xMDpolYObNz9UCfCK",
      "include_colab_link": true
    },
    "kernelspec": {
      "name": "python3",
      "display_name": "Python 3"
    },
    "language_info": {
      "name": "python"
    }
  },
  "cells": [
    {
      "cell_type": "markdown",
      "metadata": {
        "id": "view-in-github",
        "colab_type": "text"
      },
      "source": [
        "<a href=\"https://colab.research.google.com/github/FarhanHassan/Assignment/blob/main/Assignment7.ipynb\" target=\"_parent\"><img src=\"https://colab.research.google.com/assets/colab-badge.svg\" alt=\"Open In Colab\"/></a>"
      ]
    },
    {
      "cell_type": "code",
      "execution_count": 22,
      "metadata": {
        "colab": {
          "base_uri": "https://localhost:8080/"
        },
        "id": "qkTN5ksz5ZZQ",
        "outputId": "09b39325-5bb3-475d-873e-38772dc1bf23"
      },
      "outputs": [
        {
          "output_type": "stream",
          "name": "stdout",
          "text": [
            "Name: Farhan, Number: 0340-8392266, Address: Malir, Salary: 30000, Post: Junoir Analyst, Year of Joining: 2023, Experience: 1\n",
            "Farhan\n",
            "Junoir Analyst\n",
            "2023\n",
            "1\n",
            "2\n",
            "40000\n",
            "Name: Mina, Number: 0340-8392275, Address: Sialkot, Salary: 39000, Post: IT Consultant, Year of Joining: 2014, Experience: 10\n"
          ]
        }
      ],
      "source": [
        "#Make a class called Employee. The __init__() method for Employee should store its different attributes: name, number, address, salary, post, year of joining, education, and his year of experience.\n",
        "class Employee:\n",
        "  def __init__(self, name, number, address , salary , post , year_of_joining , experience):\n",
        "    self.name = name\n",
        "    self.number = number\n",
        "    self.address = address\n",
        "    self.salary = salary\n",
        "    self.post = post\n",
        "    self.year_of_joining = year_of_joining\n",
        "    self.experience = experience\n",
        "#Make a method called describe_employee() that prints the detail Information about employee, a method update_ year_of_experience(), and a method called increase_salary() that do increamnet in it's salary.\n",
        "  def describe_Employee(self):\n",
        "     print(f\"Name: {self.name}, Number: {self.number}, Address: {self.address}, Salary: {self.salary}, Post: {self.post}, Year of Joining: {self.year_of_joining}, Experience: {self.experience}\")\n",
        "  def update_year_of_experience(self, new_experience):\n",
        "        if new_experience >= self.experience:\n",
        "            self.experience = new_experience\n",
        "        else:\n",
        "            print(\"New experience value must be greater than or equal to the current experience.\")\n",
        "  def increment_Salary (self, new_salary):\n",
        "        if new_salary >= self.salary:\n",
        "            self.salary = new_salary\n",
        "        else:\n",
        "            print(\"New salary value must be greater than or equal to the current salary.\")\n",
        "#Make an instance called employee101 from your class. Print the four attributes individually, and then call all it's methods for describing employee, ssalary increamnet and increase year of experience.\n",
        "employee101=Employee(\"Farhan\",\"0340-8392266\",\"Malir\",30000,\"Junoir Analyst\",\"2023\",1)\n",
        "employee101.describe_Employee()\n",
        "print(employee101.name)\n",
        "print(employee101.post)\n",
        "print(employee101.year_of_joining)\n",
        "print(employee101.experience)\n",
        "employee101.update_year_of_experience(2)\n",
        "print(employee101.experience)\n",
        "employee101.increment_Salary(40000)\n",
        "print(employee101.salary)\n",
        "#Create 10 different instances from the class, and call describe_employee() for each instance. Then do some updations with it's methods.\n",
        "employee1=Employee(\"Farhan\", \"0340-8392266\", \"Malir\", 30000, \"Junior Developer\", \"2023\", 1)\n",
        "employee2=Employee(\"Aisha\", \"0340-8392267\", \"Karachi\", 32000, \"Junior Developer\", \"2022\", 2)\n",
        "employee3=Employee(\"Zubair\", \"0340-8392268\", \"Lahore\", 31000, \"Marketing Coordinator\", \"2021\", 3)\n",
        "employee4=Employee(\"Nadia\", \"0340-8392269\", \"Islamabad\", 33000, \"HR Specialist\", \"2020\", 4)\n",
        "employee5=Employee(\"Omar\", \"0340-8392270\", \"Faisalabad\", 34000, \"Project Coordinator\", \"2019\", 5)\n",
        "employee6=Employee(\"Sara\", \"0340-8392271\", \"Rawalpindi\", 35000, \"Graphic Designer\", \"2018\", 6)\n",
        "employee7=Employee(\"Ali\", \"0340-8392272\", \"Multan\", 36000, \"Data Analyst\", \"2017\", 7)\n",
        "employee8=Employee(\"Hina\", \"0340-8392273\", \"Peshawar\", 37000, \"Customer Support\", \"2016\", 8)\n",
        "employee9=Employee(\"Bilal\", \"0340-8392274\", \"Quetta\", 38000, \"Sales Executive\", \"2015\", 9)\n",
        "employee10=Employee(\"Mina\", \"0340-8392275\", \"Sialkot\", 39000, \"IT Consultant\", \"2014\", 10)\n",
        "employee10.describe_Employee()\n"
      ]
    },
    {
      "cell_type": "code",
      "source": [],
      "metadata": {
        "id": "yyeO6BU5-38r"
      },
      "execution_count": null,
      "outputs": []
    }
  ]
}